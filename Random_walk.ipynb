{
  "nbformat": 4,
  "nbformat_minor": 0,
  "metadata": {
    "colab": {
      "provenance": []
    },
    "kernelspec": {
      "name": "python3",
      "display_name": "Python 3"
    },
    "language_info": {
      "name": "python"
    }
  },
  "cells": [
    {
      "cell_type": "markdown",
      "source": [
        "# **Random Walk on graph**"
      ],
      "metadata": {
        "id": "udZAZggUKQ1N"
      }
    },
    {
      "cell_type": "code",
      "source": [
        "import networkx as nx\n",
        "import numpy as np\n",
        "import random"
      ],
      "metadata": {
        "id": "-cK73mD8zqUb"
      },
      "execution_count": 4,
      "outputs": []
    },
    {
      "cell_type": "code",
      "source": [
        "graph = nx.Graph()\n",
        "\n",
        "# list of nodes\n",
        "nodes = [\"A\",\"B\",\"C\",\"D\",\"E\",\"F\",\"G\",\"H\",\"I\",\"J\",\"K\"]\n",
        "\n",
        "# list of edges\n",
        "edges = [(\"A\",\"B\"),(\"A\",\"C\"),(\"B\",\"D\"), (\"B\",\"F\"),(\"C\",\"D\"),(\"D\",\"E\"),(\"D\",\"G\"),(\"D\",\"H\"),\n",
        "         (\"G\",\"H\"),(\"E\",\"F\"),(\"E\",\"H\"),(\"F\",\"I\"), (\"I\",\"H\"), (\"I\",\"J\"), (\"H\",\"K\")]\n",
        "graph.add_nodes_from(nodes)\n",
        "graph.add_edges_from(edges)\n"
      ],
      "metadata": {
        "id": "OUCm7EJuzqWK"
      },
      "execution_count": 6,
      "outputs": []
    },
    {
      "cell_type": "code",
      "source": [
        "# lets display our graph \n",
        "nx.draw(graph, with_labels = True, node_color=\"yellow\", node_size=1000, )"
      ],
      "metadata": {
        "colab": {
          "base_uri": "https://localhost:8080/",
          "height": 319
        },
        "id": "ZDZpEq7xzqY-",
        "outputId": "658a32ba-84b9-427c-855b-c099f297aa22"
      },
      "execution_count": 11,
      "outputs": [
        {
          "output_type": "display_data",
          "data": {
            "text/plain": [
              "<Figure size 432x288 with 1 Axes>"
            ],
            "image/png": "[encoded data removed]"
          },
          "metadata": {}
        }
      ]
    },
    {
      "cell_type": "code",
      "source": [
        "# lets create random walk from a random node\n",
        "# STEPS : \n",
        "#       0) we ill make our random walk of specified length\n",
        "#       1) Choose an node to start random walk\n",
        "#       2) get all the neighbors or current selected niode\n",
        "#       3) from all the neighbors delete the nodes which we have already traversed [incase you've traversed more nodes]\n",
        "#       4) from filtered neighbors randomly select a node and add it to the random walk list\n",
        "#       5) now make selected node as current node\n",
        "\n",
        "\n",
        "def random_walk(graph, node, walk_length):\n",
        "  random_walk = [node]\n",
        "  for i in range(walk_length - 1):\n",
        "    # get the neighbors of current node\n",
        "    neighbors = list(graph.neighbors(node))\n",
        "    # get rid of the nodes in neigbors which are already traversed\n",
        "    neighbors = list(set(neighbors) - set(random_walk))\n",
        "    # if we dont get any neigbors then end the random walk\n",
        "    if len(neighbors) == 0:\n",
        "      break\n",
        "\n",
        "    # randomly choose a node from neighbors\n",
        "    selected_neigh = random.choice(neighbors)\n",
        "\n",
        "    # add this selected node in random walk\n",
        "    random_walk.append(selected_neigh)\n",
        "\n",
        "    # make this selected node as current node\n",
        "    node = selected_neigh\n",
        "  \n",
        "  return random_walk\n",
        "\n",
        "\n",
        "\n",
        "print(random_walk(graph, \"A\", 5))\n"
      ],
      "metadata": {
        "colab": {
          "base_uri": "https://localhost:8080/"
        },
        "id": "f3BVt1-fQ8wA",
        "outputId": "50cd96ef-d220-4e68-854c-8f3d3faf6d0b"
      },
      "execution_count": 13,
      "outputs": [
        {
          "output_type": "stream",
          "name": "stdout",
          "text": [
            "['A', 'C', 'D', 'E', 'H']\n"
          ]
        }
      ]
    },
    {
      "cell_type": "code",
      "source": [],
      "metadata": {
        "id": "wHT-1DLvQ8ye"
      },
      "execution_count": null,
      "outputs": []
    },
    {
      "cell_type": "code",
      "source": [],
      "metadata": {
        "id": "2FAzr3RhQ80u"
      },
      "execution_count": null,
      "outputs": []
    },
    {
      "cell_type": "code",
      "source": [],
      "metadata": {
        "id": "lq2vI9zPQ82-"
      },
      "execution_count": null,
      "outputs": []
    }
  ]
}