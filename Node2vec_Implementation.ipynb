{
  "nbformat": 4,
  "nbformat_minor": 0,
  "metadata": {
    "colab": {
      "provenance": []
    },
    "kernelspec": {
      "name": "python3",
      "display_name": "Python 3"
    },
    "language_info": {
      "name": "python"
    }
  },
  "cells": [
    {
      "cell_type": "code",
      "source": [
        "import networkx as nx\n",
        "import numpy as np\n",
        "from gensim.models import Word2Vec\n",
        "import random"
      ],
      "metadata": {
        "id": "yzxvP9pbaFsL"
      },
      "execution_count": 62,
      "outputs": []
    },
    {
      "cell_type": "code",
      "source": [
        "# we compute probabilties for each node because It'll help Biased Random walk\n",
        "# Some conditions -->\n",
        "# for each node\n",
        "# 1) probability to move back to previously traversed node is 1/p\n",
        "# 2) probability to move to new untraversed node is 1/q\n",
        "# 3) probability to mode to new untraversed node which is at the same distance from the previously traversed node of current node is 1\n",
        "\n",
        "\n",
        "def compute_probablities(graph,probs, p, q):\n",
        "  \"\"\"\n",
        "  graph : expects graph \n",
        "  probs : expects empty dictionary to compute probabilties of all the neigbhoring nodes of a node\n",
        "        : this is of the format   source node : probabilites : n1 : probability score\n",
        "                                                               n2 : probability score\n",
        "                                                               n3 : probability score  \n",
        "    p   : return parameter\n",
        "    q   : in-out parameter\n",
        "  \"\"\"\n",
        "  \n",
        "  # for each node we will compute its probability to move to next node\n",
        "  # we start traversal for each node in the graph\n",
        "  # for source in graph.nodes():\n",
        "  for source in [0]:\n",
        "\n",
        "    # get all the neighbors on source node\n",
        "    for current_node in graph.neighbors(source):\n",
        "      probs_ = []\n",
        "      # get all the neighbors of current node   this will be the 2nd node in a traversal if think of in terms of traversal\n",
        "      for destination in graph.neighbors(current_node):\n",
        "\n",
        "        # if source is destination --> came back to previously traversed node\n",
        "        if source == destination:\n",
        "          # get the edge weight and multiply it with probability\n",
        "          prob_ = graph[current_node][destination].get('weight', 1) * (1/p) \n",
        "\n",
        "\n",
        "        # if there is a neigbor of current node which is also the neighbor of source node\n",
        "        elif destination in graph.neighbors(source):\n",
        "          prob_ = graph[current_node][destination].get('weight', 1)\n",
        "        \n",
        "        # otherwise for all other nodes do this\n",
        "        else:\n",
        "          prob_ = graph[current_node][destination].get('weight', 1) * (1/q)\n",
        "\n",
        "        # for each neighbor of current node , their probability\n",
        "        probs_.append(prob_)\n",
        "      \n",
        "\n",
        "      # normalizing the probabilities\n",
        "      probs[source]['probabilities'][current_node] = probs_/np.sum(probs_)\n",
        "  \n",
        "  return probs\n",
        "        "
      ],
      "metadata": {
        "id": "W_VHkxzgNZL8"
      },
      "execution_count": 47,
      "outputs": []
    },
    {
      "cell_type": "code",
      "source": [],
      "metadata": {
        "id": "kels6zJtkF_C"
      },
      "execution_count": 49,
      "outputs": []
    },
    {
      "cell_type": "code",
      "source": [
        "# generate biased random walks\n",
        "\n",
        "def generated_random_walks(graph, probs, max_walks, walk_len):\n",
        "  \"\"\"\n",
        "  graph : expects graph\n",
        "  probs : computed probabilities\n",
        "  max_walks : number of max walks per node\n",
        "  walk_len :  length of walk for each node\n",
        "  \"\"\"\n",
        "  walks = []\n",
        "  # for start_node in graph.nodes():\n",
        "  for start_node in [0]:\n",
        "    for _ in range(max_walks):\n",
        "\n",
        "      walk = [start_node]\n",
        "      walk_options = list(graph[start_node])\n",
        "      if len(walk_options) ==0:\n",
        "        break\n",
        "      \n",
        "      first_step = np.random.choice(walk_options)\n",
        "      walk.append(first_step)\n",
        "\n",
        "      for _ in range(walk_len - 2):\n",
        "        walk_options = list(graph[walk[-1]])\n",
        "        if len(walk_options) == 0:\n",
        "          break\n",
        "        \n",
        "        probabilities = probs[walk[-2]]['probabilities'][walk[-1]]\n",
        "        next_stop = np.random.choice(walk_options, p=probabilities)\n",
        "        walk.append(next_stop)\n",
        "\n",
        "      walks.append(walk)\n",
        "\n",
        "  np.random.shuffle(walks)\n",
        "  walks = [list(map(str, walk)) for walk in walks]\n",
        "  return walks\n",
        "      \n"
      ],
      "metadata": {
        "id": "svSnLP4pNZTF"
      },
      "execution_count": 44,
      "outputs": []
    },
    {
      "cell_type": "code",
      "source": [
        "# craete the main Node2Vec function which will take the walk vectors and return the node embeddings\n",
        "import gensim \n",
        "def Node2vec(generated_walks, window_size, embedding_vector_dim):\n",
        "  \"\"\"\n",
        "  generated_walks : list_walks\n",
        "  window_size : define window size for list of nodes\n",
        "  embedding_vector_size : what embedding vector size you want\n",
        "  \"\"\"\n",
        "  model = Word2Vec(sentences= generated_walks, window= window_size, size= embedding_vector_dim)\n",
        "  return model.wv\n"
      ],
      "metadata": {
        "id": "BsSzvajTNZVp"
      },
      "execution_count": 65,
      "outputs": []
    },
    {
      "cell_type": "code",
      "source": [
        "# import the karate club graph\n",
        "\n",
        "graph = nx.karate_club_graph()\n"
      ],
      "metadata": {
        "id": "pSadoKEnNZYP"
      },
      "execution_count": 7,
      "outputs": []
    },
    {
      "cell_type": "code",
      "source": [
        "from collections import defaultdict\n",
        "\n",
        "probs = defaultdict(dict)\n",
        "\n",
        "for node in graph.nodes():\n",
        "  probs[node]['probabilities'] = dict()\n"
      ],
      "metadata": {
        "id": "bg8DTlJ7NZZ8"
      },
      "execution_count": 21,
      "outputs": []
    },
    {
      "cell_type": "code",
      "source": [
        "probs"
      ],
      "metadata": {
        "id": "rKFCVozVNZbx",
        "colab": {
          "base_uri": "https://localhost:8080/"
        },
        "outputId": "f47d65a3-01c3-4a1a-e4c0-f94ba149da62"
      },
      "execution_count": 22,
      "outputs": [
        {
          "output_type": "execute_result",
          "data": {
            "text/plain": [
              "defaultdict(dict,\n",
              "            {0: {'probabilities': {}},\n",
              "             1: {'probabilities': {}},\n",
              "             2: {'probabilities': {}},\n",
              "             3: {'probabilities': {}},\n",
              "             4: {'probabilities': {}},\n",
              "             5: {'probabilities': {}},\n",
              "             6: {'probabilities': {}},\n",
              "             7: {'probabilities': {}},\n",
              "             8: {'probabilities': {}},\n",
              "             9: {'probabilities': {}},\n",
              "             10: {'probabilities': {}},\n",
              "             11: {'probabilities': {}},\n",
              "             12: {'probabilities': {}},\n",
              "             13: {'probabilities': {}},\n",
              "             14: {'probabilities': {}},\n",
              "             15: {'probabilities': {}},\n",
              "             16: {'probabilities': {}},\n",
              "             17: {'probabilities': {}},\n",
              "             18: {'probabilities': {}},\n",
              "             19: {'probabilities': {}},\n",
              "             20: {'probabilities': {}},\n",
              "             21: {'probabilities': {}},\n",
              "             22: {'probabilities': {}},\n",
              "             23: {'probabilities': {}},\n",
              "             24: {'probabilities': {}},\n",
              "             25: {'probabilities': {}},\n",
              "             26: {'probabilities': {}},\n",
              "             27: {'probabilities': {}},\n",
              "             28: {'probabilities': {}},\n",
              "             29: {'probabilities': {}},\n",
              "             30: {'probabilities': {}},\n",
              "             31: {'probabilities': {}},\n",
              "             32: {'probabilities': {}},\n",
              "             33: {'probabilities': {}}})"
            ]
          },
          "metadata": {},
          "execution_count": 22
        }
      ]
    },
    {
      "cell_type": "code",
      "source": [
        "computed_probabilities = compute_probablities(graph, probs, 1, 1)\n",
        "\n",
        "walks = generated_random_walks(graph, computed_probabilities, 5, 10)"
      ],
      "metadata": {
        "id": "sQIa2ZG0ap0U"
      },
      "execution_count": 31,
      "outputs": []
    },
    {
      "cell_type": "code",
      "source": [
        "nx.draw(graph, with_labels = True, node_color=\"yellow\", node_size=500)"
      ],
      "metadata": {
        "colab": {
          "base_uri": "https://localhost:8080/",
          "height": 319
        },
        "id": "SeoGQ-huglX6",
        "outputId": "9ca51df1-3bb4-4c2d-c159-e8bee7cc09c7"
      },
      "execution_count": 37,
      "outputs": [
        {
          "output_type": "display_data",
          "data": {
            "text/plain": [
              "<Figure size 432x288 with 1 Axes>"
            ],
            "image/png": "[encoded data removed]"
          },
          "metadata": {}
        }
      ]
    },
    {
      "cell_type": "code",
      "source": [
        "graph.nodes()"
      ],
      "metadata": {
        "colab": {
          "base_uri": "https://localhost:8080/"
        },
        "id": "6u9ulJGlharu",
        "outputId": "b7d67876-c8ff-40be-bf27-648d7672ef01"
      },
      "execution_count": 39,
      "outputs": [
        {
          "output_type": "execute_result",
          "data": {
            "text/plain": [
              "NodeView((0, 1, 2, 3, 4, 5, 6, 7, 8, 9, 10, 11, 12, 13, 14, 15, 16, 17, 18, 19, 20, 21, 22, 23, 24, 25, 26, 27, 28, 29, 30, 31, 32, 33))"
            ]
          },
          "metadata": {},
          "execution_count": 39
        }
      ]
    },
    {
      "cell_type": "code",
      "source": [
        "graph.edges()"
      ],
      "metadata": {
        "colab": {
          "base_uri": "https://localhost:8080/"
        },
        "id": "lDI2kaTvheHA",
        "outputId": "4bb32c8b-9c55-4d4d-a7c2-94b618ed01d6"
      },
      "execution_count": 40,
      "outputs": [
        {
          "output_type": "execute_result",
          "data": {
            "text/plain": [
              "EdgeView([(0, 1), (0, 2), (0, 3), (0, 4), (0, 5), (0, 6), (0, 7), (0, 8), (0, 10), (0, 11), (0, 12), (0, 13), (0, 17), (0, 19), (0, 21), (0, 31), (1, 2), (1, 3), (1, 7), (1, 13), (1, 17), (1, 19), (1, 21), (1, 30), (2, 3), (2, 7), (2, 8), (2, 9), (2, 13), (2, 27), (2, 28), (2, 32), (3, 7), (3, 12), (3, 13), (4, 6), (4, 10), (5, 6), (5, 10), (5, 16), (6, 16), (8, 30), (8, 32), (8, 33), (9, 33), (13, 33), (14, 32), (14, 33), (15, 32), (15, 33), (18, 32), (18, 33), (19, 33), (20, 32), (20, 33), (22, 32), (22, 33), (23, 25), (23, 27), (23, 29), (23, 32), (23, 33), (24, 25), (24, 27), (24, 31), (25, 31), (26, 29), (26, 33), (27, 33), (28, 31), (28, 33), (29, 32), (29, 33), (30, 32), (30, 33), (31, 32), (31, 33), (32, 33)])"
            ]
          },
          "metadata": {},
          "execution_count": 40
        }
      ]
    },
    {
      "cell_type": "code",
      "source": [
        "computed_probabilities"
      ],
      "metadata": {
        "id": "BDTjGmPdap3B"
      },
      "execution_count": null,
      "outputs": []
    },
    {
      "cell_type": "code",
      "source": [
        "# generate embeddings\n",
        "\n",
        "n2v_embed = Node2vec(walks, 20, 20)"
      ],
      "metadata": {
        "colab": {
          "base_uri": "https://localhost:8080/"
        },
        "id": "lOziQr7eap5l",
        "outputId": "6cfde0e8-d1ad-4dd1-fa6e-6dde88273955"
      },
      "execution_count": 66,
      "outputs": [
        {
          "output_type": "stream",
          "name": "stderr",
          "text": [
            "WARNING:gensim.models.base_any2vec:under 10 jobs per worker: consider setting a smaller `batch_words' for smoother alpha decay\n"
          ]
        }
      ]
    },
    {
      "cell_type": "code",
      "source": [],
      "metadata": {
        "id": "9CH_JCoxap7p"
      },
      "execution_count": null,
      "outputs": []
    },
    {
      "cell_type": "code",
      "source": [],
      "metadata": {
        "id": "4OPUSDQRap_h"
      },
      "execution_count": null,
      "outputs": []
    },
    {
      "cell_type": "code",
      "source": [],
      "metadata": {
        "id": "Wbbaa0zDaqBp"
      },
      "execution_count": null,
      "outputs": []
    },
    {
      "cell_type": "code",
      "source": [],
      "metadata": {
        "id": "FrmocOpdaqDp"
      },
      "execution_count": null,
      "outputs": []
    }
  ]
}